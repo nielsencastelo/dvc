{
 "cells": [
  {
   "cell_type": "markdown",
   "metadata": {},
   "source": [
    "# Projeto Simples de Treinamento de um Modelo Linear com o framework DVC\n",
    "- https://dvc.org/"
   ]
  },
  {
   "cell_type": "markdown",
   "metadata": {},
   "source": [
    "## O projeto terá as seguintes etapas:\n",
    "\n",
    "- Gerar dados de entrada.\n",
    "- Treinar um modelo simples (regressão linear).\n",
    "- Controlar os arquivos de dados e resultados usando o DVC."
   ]
  },
  {
   "cell_type": "markdown",
   "metadata": {},
   "source": [
    "# Passo 1: Configuração do Ambiente\n",
    "Certifique-se de ter o DVC e o Git instalados."
   ]
  },
  {
   "cell_type": "code",
   "execution_count": null,
   "metadata": {},
   "outputs": [],
   "source": [
    "! pip install dvc\n",
    "! git init"
   ]
  },
  {
   "cell_type": "markdown",
   "metadata": {},
   "source": [
    "# Passo 2: Inicializar o DVC"
   ]
  },
  {
   "cell_type": "code",
   "execution_count": 2,
   "metadata": {},
   "outputs": [
    {
     "name": "stdout",
     "output_type": "stream",
     "text": [
      "Initialized DVC repository.\n",
      "\n",
      "You can now commit the changes to git.\n",
      "\n",
      "+---------------------------------------------------------------------+\n",
      "|                                                                     |\n",
      "|        DVC has enabled anonymous aggregate usage analytics.         |\n",
      "|     Read the analytics documentation (and how to opt-out) here:     |\n",
      "|             <https://dvc.org/doc/user-guide/analytics>              |\n",
      "|                                                                     |\n",
      "+---------------------------------------------------------------------+\n",
      "\n",
      "What's next?\n",
      "------------\n",
      "- Check out the documentation: <https://dvc.org/doc>\n",
      "- Get help and share ideas: <https://dvc.org/chat>\n",
      "- Star us on GitHub: <https://github.com/iterative/dvc>\n"
     ]
    },
    {
     "name": "stderr",
     "output_type": "stream",
     "text": [
      "fatal: pathspec '.gitignore' did not match any files\n"
     ]
    },
    {
     "name": "stdout",
     "output_type": "stream",
     "text": [
      "[master (root-commit) 16326b4] Inicializa o DVC no projeto\n",
      " Committer: Nielsen Castelo Damasceno Dantas <nielsen.castelo@inatel.br>\n",
      "Your name and email address were configured automatically based\n",
      "on your username and hostname. Please check that they are accurate.\n",
      "You can suppress this message by setting them explicitly:\n",
      "\n",
      "    git config --global user.name \"Your Name\"\n",
      "    git config --global user.email you@example.com\n",
      "\n",
      "After doing this, you may fix the identity used for this commit with:\n",
      "\n",
      "    git commit --amend --reset-author\n",
      "\n",
      " 3 files changed, 6 insertions(+)\n",
      " create mode 100644 .dvc/.gitignore\n",
      " create mode 100644 .dvc/config\n",
      " create mode 100644 .dvcignore\n"
     ]
    }
   ],
   "source": [
    "! dvc init\n",
    "! git add .dvc .gitignore\n",
    "! git commit -m \"Inicializa o DVC no projeto\"\n"
   ]
  },
  {
   "cell_type": "markdown",
   "metadata": {},
   "source": [
    "# Passo 3: Criar Dados Simulados\n",
    "Crie um script Python para gerar dados."
   ]
  },
  {
   "cell_type": "code",
   "execution_count": 3,
   "metadata": {},
   "outputs": [
    {
     "name": "stdout",
     "output_type": "stream",
     "text": [
      "Dados salvos em data.csv\n"
     ]
    }
   ],
   "source": [
    "import pandas as pd\n",
    "import numpy as np\n",
    "\n",
    "\n",
    "np.random.seed(42)\n",
    "x = np.random.rand(100, 1)\n",
    "y = 3 * x[:, 0] + np.random.randn(100)\n",
    "\n",
    "data = pd.DataFrame({'x': x[:, 0], 'y': y})\n",
    "data.to_csv('data.csv', index=False)\n",
    "print(\"Dados salvos em data.csv\")\n"
   ]
  },
  {
   "cell_type": "code",
   "execution_count": 4,
   "metadata": {},
   "outputs": [
    {
     "data": {
      "text/html": [
       "<div>\n",
       "<style scoped>\n",
       "    .dataframe tbody tr th:only-of-type {\n",
       "        vertical-align: middle;\n",
       "    }\n",
       "\n",
       "    .dataframe tbody tr th {\n",
       "        vertical-align: top;\n",
       "    }\n",
       "\n",
       "    .dataframe thead th {\n",
       "        text-align: right;\n",
       "    }\n",
       "</style>\n",
       "<table border=\"1\" class=\"dataframe\">\n",
       "  <thead>\n",
       "    <tr style=\"text-align: right;\">\n",
       "      <th></th>\n",
       "      <th>x</th>\n",
       "      <th>y</th>\n",
       "    </tr>\n",
       "  </thead>\n",
       "  <tbody>\n",
       "    <tr>\n",
       "      <th>0</th>\n",
       "      <td>0.374540</td>\n",
       "      <td>1.210667</td>\n",
       "    </tr>\n",
       "    <tr>\n",
       "      <th>1</th>\n",
       "      <td>0.950714</td>\n",
       "      <td>2.553136</td>\n",
       "    </tr>\n",
       "    <tr>\n",
       "      <th>2</th>\n",
       "      <td>0.731994</td>\n",
       "      <td>2.287743</td>\n",
       "    </tr>\n",
       "    <tr>\n",
       "      <th>3</th>\n",
       "      <td>0.598658</td>\n",
       "      <td>-0.191593</td>\n",
       "    </tr>\n",
       "    <tr>\n",
       "      <th>4</th>\n",
       "      <td>0.156019</td>\n",
       "      <td>0.248384</td>\n",
       "    </tr>\n",
       "    <tr>\n",
       "      <th>...</th>\n",
       "      <td>...</td>\n",
       "      <td>...</td>\n",
       "    </tr>\n",
       "    <tr>\n",
       "      <th>95</th>\n",
       "      <td>0.493796</td>\n",
       "      <td>0.665577</td>\n",
       "    </tr>\n",
       "    <tr>\n",
       "      <th>96</th>\n",
       "      <td>0.522733</td>\n",
       "      <td>1.491097</td>\n",
       "    </tr>\n",
       "    <tr>\n",
       "      <th>97</th>\n",
       "      <td>0.427541</td>\n",
       "      <td>1.623775</td>\n",
       "    </tr>\n",
       "    <tr>\n",
       "      <th>98</th>\n",
       "      <td>0.025419</td>\n",
       "      <td>0.352948</td>\n",
       "    </tr>\n",
       "    <tr>\n",
       "      <th>99</th>\n",
       "      <td>0.107891</td>\n",
       "      <td>1.150858</td>\n",
       "    </tr>\n",
       "  </tbody>\n",
       "</table>\n",
       "<p>100 rows × 2 columns</p>\n",
       "</div>"
      ],
      "text/plain": [
       "           x         y\n",
       "0   0.374540  1.210667\n",
       "1   0.950714  2.553136\n",
       "2   0.731994  2.287743\n",
       "3   0.598658 -0.191593\n",
       "4   0.156019  0.248384\n",
       "..       ...       ...\n",
       "95  0.493796  0.665577\n",
       "96  0.522733  1.491097\n",
       "97  0.427541  1.623775\n",
       "98  0.025419  0.352948\n",
       "99  0.107891  1.150858\n",
       "\n",
       "[100 rows x 2 columns]"
      ]
     },
     "execution_count": 4,
     "metadata": {},
     "output_type": "execute_result"
    }
   ],
   "source": [
    "data"
   ]
  },
  {
   "cell_type": "markdown",
   "metadata": {},
   "source": [
    "# Passo 4: Adicionar os Dados ao DVC\n",
    "Rode o script e adicione os dados ao controle de versão."
   ]
  },
  {
   "cell_type": "code",
   "execution_count": 5,
   "metadata": {},
   "outputs": [
    {
     "name": "stdout",
     "output_type": "stream",
     "text": [
      "Dados salvos em data.csv\n",
      "\n",
      "To track the changes with git, run:\n",
      "\n",
      "\tgit add data.csv.dvc .gitignore\n",
      "\n",
      "To enable auto staging, run:\n",
      "\n",
      "\tdvc config core.autostage true\n"
     ]
    },
    {
     "name": "stderr",
     "output_type": "stream",
     "text": [
      "⠋ Checking graph\n",
      "\n"
     ]
    }
   ],
   "source": [
    "! python generate_data.py\n",
    "! dvc add data.csv\n"
   ]
  },
  {
   "cell_type": "markdown",
   "metadata": {},
   "source": [
    "O comando cria um arquivo data.csv.dvc que controla os dados.\n",
    "\n",
    "Adicione ao Git:"
   ]
  },
  {
   "cell_type": "code",
   "execution_count": 6,
   "metadata": {},
   "outputs": [
    {
     "name": "stdout",
     "output_type": "stream",
     "text": [
      "[master 7875677] Adiciona dados simulados com DVC\n",
      " Committer: Nielsen Castelo Damasceno Dantas <nielsen.castelo@inatel.br>\n",
      "Your name and email address were configured automatically based\n",
      "on your username and hostname. Please check that they are accurate.\n",
      "You can suppress this message by setting them explicitly:\n",
      "\n",
      "    git config --global user.name \"Your Name\"\n",
      "    git config --global user.email you@example.com\n",
      "\n",
      "After doing this, you may fix the identity used for this commit with:\n",
      "\n",
      "    git commit --amend --reset-author\n",
      "\n",
      " 2 files changed, 6 insertions(+)\n",
      " create mode 100644 .gitignore\n",
      " create mode 100644 data.csv.dvc\n"
     ]
    }
   ],
   "source": [
    "! git add data.csv.dvc .gitignore\n",
    "! git commit -m \"Adiciona dados simulados com DVC\"\n"
   ]
  },
  {
   "cell_type": "markdown",
   "metadata": {},
   "source": [
    "# Passo 5: Treinar o Modelo\n",
    "- Crie um script para treinar um modelo.\n",
    "- Arquivo: train_model.py"
   ]
  },
  {
   "cell_type": "code",
   "execution_count": 7,
   "metadata": {},
   "outputs": [
    {
     "name": "stdout",
     "output_type": "stream",
     "text": [
      "Modelo salvo em model.pkl\n"
     ]
    }
   ],
   "source": [
    "\n",
    "import pandas as pd\n",
    "from sklearn.linear_model import LinearRegression\n",
    "import joblib\n",
    "\n",
    "# Carregar os dados\n",
    "data = pd.read_csv('data.csv')\n",
    "X = data[['x']].values\n",
    "y = data['y'].values\n",
    "\n",
    "# Treinar modelo\n",
    "model = LinearRegression()\n",
    "model.fit(X, y)\n",
    "\n",
    "# Salvar o modelo\n",
    "joblib.dump(model, 'model.pkl')\n",
    "print(\"Modelo salvo em model.pkl\")\n"
   ]
  },
  {
   "cell_type": "markdown",
   "metadata": {},
   "source": [
    "# Passo 6: Adicionar o Modelo ao DVC\n",
    "Execute o treinamento e adicione o modelo ao DVC."
   ]
  },
  {
   "cell_type": "code",
   "execution_count": 8,
   "metadata": {},
   "outputs": [
    {
     "name": "stdout",
     "output_type": "stream",
     "text": [
      "Modelo salvo em model.pkl\n",
      "\n",
      "To track the changes with git, run:\n",
      "\n",
      "\tgit add model.pkl.dvc .gitignore\n",
      "\n",
      "To enable auto staging, run:\n",
      "\n",
      "\tdvc config core.autostage true\n"
     ]
    },
    {
     "name": "stderr",
     "output_type": "stream",
     "text": [
      "⠋ Checking graph\n",
      "\n"
     ]
    }
   ],
   "source": [
    "! python train_model.py\n",
    "! dvc add model.pkl\n"
   ]
  },
  {
   "cell_type": "markdown",
   "metadata": {},
   "source": [
    "Adicione ao Git:"
   ]
  },
  {
   "cell_type": "code",
   "execution_count": 9,
   "metadata": {},
   "outputs": [
    {
     "name": "stdout",
     "output_type": "stream",
     "text": [
      "[master be681d6] Adiciona modelo treinado com DVC\n",
      " Committer: Nielsen Castelo Damasceno Dantas <nielsen.castelo@inatel.br>\n",
      "Your name and email address were configured automatically based\n",
      "on your username and hostname. Please check that they are accurate.\n",
      "You can suppress this message by setting them explicitly:\n",
      "\n",
      "    git config --global user.name \"Your Name\"\n",
      "    git config --global user.email you@example.com\n",
      "\n",
      "After doing this, you may fix the identity used for this commit with:\n",
      "\n",
      "    git commit --amend --reset-author\n",
      "\n",
      " 2 files changed, 6 insertions(+)\n",
      " create mode 100644 model.pkl.dvc\n"
     ]
    }
   ],
   "source": [
    "! git add model.pkl.dvc .gitignore\n",
    "! git commit -m \"Adiciona modelo treinado com DVC\"\n"
   ]
  },
  {
   "cell_type": "markdown",
   "metadata": {},
   "source": [
    "# Passo 7: Criar um Pipeline DVC\n",
    "Para automatizar as etapas, crie um pipeline."
   ]
  },
  {
   "cell_type": "code",
   "execution_count": 10,
   "metadata": {},
   "outputs": [
    {
     "name": "stderr",
     "output_type": "stream",
     "text": [
      "ERROR: output 'data.csv' is already specified in stage: 'data.csv.dvc'.\n",
      "Use `dvc remove data.csv.dvc` to stop tracking the overlapping output.\n",
      "ERROR: output 'model.pkl' is already specified in stage: 'model.pkl.dvc'.\n",
      "Use `dvc remove model.pkl.dvc` to stop tracking the overlapping output.\n"
     ]
    }
   ],
   "source": [
    "! dvc stage add -n generate_data -d generate_data.py -o data.csv python generate_data.py\n",
    "! dvc stage add -n train_model -d train_model.py -d data.csv -o model.pkl python train_model.py\n"
   ]
  },
  {
   "cell_type": "markdown",
   "metadata": {},
   "source": [
    "# Passo 8: Executar e Visualizar o Pipeline\n",
    "Execute o pipeline completo com:"
   ]
  },
  {
   "cell_type": "code",
   "execution_count": 11,
   "metadata": {},
   "outputs": [
    {
     "name": "stderr",
     "output_type": "stream",
     "text": [
      "ERROR: 'e:\\Inatel\\Projetos\\test_dvc\\dvc.yaml' does not exist\n"
     ]
    }
   ],
   "source": [
    "! dvc repro"
   ]
  },
  {
   "cell_type": "markdown",
   "metadata": {},
   "source": [
    "Visualize o status:"
   ]
  },
  {
   "cell_type": "code",
   "execution_count": 12,
   "metadata": {},
   "outputs": [
    {
     "name": "stdout",
     "output_type": "stream",
     "text": [
      "+--------------+ \n",
      "| data.csv.dvc | \n",
      "+--------------+ \n",
      "+---------------+  \n",
      "| model.pkl.dvc |  \n",
      "+---------------+  \n"
     ]
    }
   ],
   "source": [
    "! dvc dag"
   ]
  },
  {
   "cell_type": "markdown",
   "metadata": {},
   "source": [
    "# Passo 9: Armazenar e Compartilhar os Dados\n",
    "Envie os dados para um armazenamento remoto (ex.: AWS S3, Google Drive):"
   ]
  },
  {
   "cell_type": "code",
   "execution_count": null,
   "metadata": {},
   "outputs": [],
   "source": [
    "! dvc remote add -d myremote <URL_DO_STORAGE>\n",
    "! dvc push"
   ]
  },
  {
   "cell_type": "markdown",
   "metadata": {},
   "source": [
    "Adicione as mudanças ao Git:"
   ]
  },
  {
   "cell_type": "code",
   "execution_count": null,
   "metadata": {},
   "outputs": [],
   "source": [
    "! git add .dvc/config\n",
    "! git commit -m \"Configura o armazenamento remoto\"\n",
    "! git push"
   ]
  },
  {
   "cell_type": "code",
   "execution_count": 13,
   "metadata": {},
   "outputs": [
    {
     "data": {
      "image/png": "[encoded data removed]",
      "text/plain": [
       "<Figure size 1000x600 with 1 Axes>"
      ]
     },
     "metadata": {},
     "output_type": "display_data"
    }
   ],
   "source": [
    "import matplotlib.pyplot as plt\n",
    "import networkx as nx\n",
    "\n",
    "# Criação do grafo do pipeline\n",
    "G = nx.DiGraph()\n",
    "\n",
    "# Nós do pipeline\n",
    "G.add_node(\"generate_data\", label=\"1. Gerar Dados\\n(generate_data.py)\")\n",
    "G.add_node(\"data.csv\", label=\"2. Dados\\n(data.csv)\")\n",
    "G.add_node(\"train_model\", label=\"3. Treinar Modelo\\n(train_model.py)\")\n",
    "G.add_node(\"model.pkl\", label=\"4. Modelo\\n(model.pkl)\")\n",
    "G.add_node(\"dvc add/push\", label=\"5. DVC\\n(add/push)\")\n",
    "\n",
    "# Conexões entre os nós\n",
    "G.add_edges_from([\n",
    "    (\"generate_data\", \"data.csv\"),\n",
    "    (\"data.csv\", \"train_model\"),\n",
    "    (\"train_model\", \"model.pkl\"),\n",
    "    (\"data.csv\", \"dvc add/push\"),\n",
    "    (\"model.pkl\", \"dvc add/push\")\n",
    "])\n",
    "\n",
    "# Layout do pipeline\n",
    "pos = {\n",
    "    \"generate_data\": (0, 2),\n",
    "    \"data.csv\": (2, 2),\n",
    "    \"train_model\": (4, 2),\n",
    "    \"model.pkl\": (6, 2),\n",
    "    \"dvc add/push\": (3, 0)\n",
    "}\n",
    "\n",
    "# Ajustando os rótulos para evitar sobreposição usando `bbox`\n",
    "\n",
    "# plt.figure(figsize=(10, 6))\n",
    "# nx.draw(G, pos, with_labels=False, node_size=3000, node_color=\"#FFDDC1\", edge_color=\"gray\")\n",
    "\n",
    "# Adicionar rótulos personalizados com fundo\n",
    "labels = {n: d['label'] for n, d in G.nodes(data=True)}\n",
    "\n",
    "# Ajustando o tamanho dos vértices e alterando as cores\n",
    "plt.figure(figsize=(10, 6))\n",
    "\n",
    "# Desenho dos nós e arestas\n",
    "nx.draw(G, pos, with_labels=False, node_size=5000, node_color=\"#92C7CF\", edge_color=\"gray\", linewidths=4)\n",
    "\n",
    "# Adicionar rótulos personalizados com fundo branco\n",
    "for node, (x, y) in pos.items():\n",
    "    plt.text(\n",
    "        x, y, labels[node], \n",
    "        fontsize=10, ha=\"center\", va=\"center\", bbox=dict(facecolor='white', alpha=0.8, edgecolor='none')\n",
    "    )\n",
    "\n",
    "plt.title(\"Pipeline DVC para um Projeto Simples\", fontsize=12, fontweight=\"bold\")\n",
    "plt.axis(\"off\")\n",
    "plt.show()\n",
    "\n"
   ]
  }
 ],
 "metadata": {
  "kernelspec": {
   "display_name": "glucose",
   "language": "python",
   "name": "python3"
  },
  "language_info": {
   "codemirror_mode": {
    "name": "ipython",
    "version": 3
   },
   "file_extension": ".py",
   "mimetype": "text/x-python",
   "name": "python",
   "nbconvert_exporter": "python",
   "pygments_lexer": "ipython3",
   "version": "3.11.11"
  }
 },
 "nbformat": 4,
 "nbformat_minor": 2
}
