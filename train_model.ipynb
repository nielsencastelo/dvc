{
 "cells": [
  {
   "cell_type": "markdown",
   "metadata": {},
   "source": [
    "# Configurar o ambiente\n",
    "Certifique-se de que o DVC está instalado e o Git inicializado no projeto:"
   ]
  },
  {
   "cell_type": "code",
   "execution_count": null,
   "metadata": {},
   "outputs": [],
   "source": [
    "! pip install dvc\n",
    "! git init\n",
    "! dvc init\n",
    "! git add .dvc .gitignore\n",
    "! git commit -m \"Inicializa o projeto com DVC\"\n"
   ]
  },
  {
   "cell_type": "markdown",
   "metadata": {},
   "source": [
    "# Gerenciar notebooks como dependências\n",
    "Você pode usar o DVC para rastrear as dependências e saídas de um notebook diretamente:\n",
    "\n",
    "    Adicionar o notebook como dependência: Crie um arquivo dvc.yaml para definir as etapas de execução do notebook.\n",
    "\n",
    "    Exemplo do arquivo dvc.yaml: (veja o arquivo dvc.yaml)\n"
   ]
  },
  {
   "cell_type": "markdown",
   "metadata": {},
   "source": [
    "- cmd: Comando para executar o notebook (no caso, usando nbconvert para executar e gerar o notebook atualizado).\n",
    "- deps: Arquivos que o notebook utiliza como entrada.\n",
    "- outs: Arquivos de saída produzidos pelo notebook."
   ]
  },
  {
   "cell_type": "markdown",
   "metadata": {},
   "source": [
    "# Adicione e rastreie o arquivo dvc.yaml:"
   ]
  },
  {
   "cell_type": "code",
   "execution_count": null,
   "metadata": {},
   "outputs": [],
   "source": [
    "! git add dvc.yaml\n",
    "! git commit -m \"Adiciona etapa de treinamento no DVC\"\n"
   ]
  },
  {
   "cell_type": "markdown",
   "metadata": {},
   "source": [
    "# Adicionar dependências e saídas\n",
    "\n",
    "Adicione os arquivos de dados ou resultados produzidos pelo notebook ao controle do DVC:"
   ]
  },
  {
   "cell_type": "code",
   "execution_count": null,
   "metadata": {},
   "outputs": [],
   "source": [
    "! dvc add data/dataset.csv\n",
    "! dvc add outputs/model.pkl\n",
    "! git add data/dataset.csv.dvc outputs/model.pkl.dvc\n",
    "! git commit -m \"Rastreia dataset e modelo treinado com DVC\"\n"
   ]
  },
  {
   "cell_type": "markdown",
   "metadata": {},
   "source": [
    "# Executar as etapas definidas\n",
    "\n",
    "Execute o pipeline configurado no dvc.yaml:"
   ]
  },
  {
   "cell_type": "code",
   "execution_count": null,
   "metadata": {},
   "outputs": [],
   "source": [
    "! dvc repro"
   ]
  },
  {
   "cell_type": "markdown",
   "metadata": {},
   "source": [
    "Este comando:\n",
    "\n",
    "    - Executa o notebook train_model.ipynb automaticamente.\n",
    "    - Rastreia as alterações nos arquivos de entrada e saída.\n",
    "    - Atualiza os resultados no controle do DVC."
   ]
  },
  {
   "cell_type": "markdown",
   "metadata": {},
   "source": [
    "# Compartilhar dados e resultados\n",
    "\n",
    "Sincronize os dados gerenciados pelo DVC com um remote:"
   ]
  },
  {
   "cell_type": "code",
   "execution_count": null,
   "metadata": {},
   "outputs": [],
   "source": [
    "! dvc remote add -d storage gdrive://<seu-repositorio>\n",
    "! dvc push\n"
   ]
  },
  {
   "cell_type": "markdown",
   "metadata": {},
   "source": [
    "# Benefícios do uso do DVC com notebooks\n",
    "\n",
    "    Rastreamento automático: O DVC rastreia o estado do notebook e seus dados associados.\n",
    "    Reprodutibilidade: Qualquer pessoa pode executar o pipeline, garantindo a consistência dos resultados.\n",
    "    Integração com dados em remotes: Permite armazenar grandes conjuntos de dados e modelos fora do repositório Git."
   ]
  },
  {
   "cell_type": "markdown",
   "metadata": {},
   "source": [
    "# Boas práticas\n",
    "\n",
    "    Versão dos notebooks: Use uma ferramenta como nbdime para comparar notebooks antes de commits no Git:\n",
    "    - Evite dados grandes no notebook: Mantenha os arquivos grandes como dependências gerenciadas pelo DVC."
   ]
  },
  {
   "cell_type": "code",
   "execution_count": null,
   "metadata": {},
   "outputs": [],
   "source": [
    "! pip install nbdime\n",
    "! nbdime config-git --enable\n"
   ]
  },
  {
   "cell_type": "code",
   "execution_count": null,
   "metadata": {},
   "outputs": [],
   "source": [
    "import pandas as pd\n",
    "from sklearn.linear_model import LinearRegression\n",
    "import joblib\n",
    "\n",
    "# Carregar os dados\n",
    "data = pd.read_csv('data.csv')\n",
    "X = data[['x']].values\n",
    "y = data['y'].values\n",
    "\n",
    "# Treinar modelo\n",
    "model = LinearRegression()\n",
    "model.fit(X, y)\n",
    "\n",
    "# Salvar o modelo\n",
    "joblib.dump(model, 'model.pkl')\n",
    "print(\"Modelo salvo em model.pkl\")\n"
   ]
  }
 ],
 "metadata": {
  "kernelspec": {
   "display_name": "glucose",
   "language": "python",
   "name": "python3"
  },
  "language_info": {
   "name": "python",
   "version": "3.11.11"
  }
 },
 "nbformat": 4,
 "nbformat_minor": 2
}
